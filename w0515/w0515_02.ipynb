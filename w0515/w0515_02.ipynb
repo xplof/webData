{
 "cells": [
  {
   "cell_type": "markdown",
   "id": "9d0c3441",
   "metadata": {},
   "source": [
    "#### 네이버 항공권 웹스크래핑"
   ]
  },
  {
   "cell_type": "markdown",
   "id": "3962f5cd",
   "metadata": {},
   "source": [
    "설정부분"
   ]
  },
  {
   "cell_type": "code",
   "execution_count": 4,
   "id": "cdc227ae",
   "metadata": {},
   "outputs": [],
   "source": [
    "import requests\n",
    "from bs4 import BeautifulSoup\n",
    "from selenium import webdriver\n",
    "from selenium.webdriver.common.keys import Keys\n",
    "from selenium.webdriver.common.by import By\n",
    "from selenium.webdriver.chrome.service import Service\n",
    "from selenium.webdriver.chrome.options import Options\n",
    "import csv\n",
    "import time\n",
    "import random\n",
    "# 크롬 옵션 설정 - 셀레니움 접근 제한 : 보안접근 해제\n",
    "options = Options()\n",
    "options.add_argument(\"--disable-blink-features=AutomationControlled\")  # 자동화 티 안 나게\n",
    "options.add_argument(\"start-maximized\")\n",
    "options.add_argument(\"user-agent=Mozilla/5.0 (Windows NT 10.0; Win64; x64) AppleWebKit/537.36 (KHTML, like Gecko) Chrome/123.0.0.0 Safari/537.36\")\n",
    "options.add_experimental_option(\"excludeSwitches\", [\"enable-automation\"])\n",
    "options.add_experimental_option('useAutomationExtension', False)\n",
    "\n"
   ]
  },
  {
   "cell_type": "code",
   "execution_count": 6,
   "id": "99714f30",
   "metadata": {},
   "outputs": [
    {
     "ename": "InvalidSessionIdException",
     "evalue": "Message: invalid session id: session deleted as the browser has closed the connection\nfrom disconnected: not connected to DevTools\n  (Session info: chrome=136.0.7103.93)\nStacktrace:\n\tGetHandleVerifier [0x00007FF7129ECF65+75717]\n\tGetHandleVerifier [0x00007FF7129ECFC0+75808]\n\t(No symbol) [0x00007FF7127B8F9A]\n\t(No symbol) [0x00007FF7127A4E35]\n\t(No symbol) [0x00007FF7127C9DB4]\n\t(No symbol) [0x00007FF71283EE75]\n\t(No symbol) [0x00007FF71285ECC2]\n\t(No symbol) [0x00007FF712837153]\n\t(No symbol) [0x00007FF712800421]\n\t(No symbol) [0x00007FF7128011B3]\n\tGetHandleVerifier [0x00007FF712CED74D+3223469]\n\tGetHandleVerifier [0x00007FF712CE7CF2+3200338]\n\tGetHandleVerifier [0x00007FF712D05B23+3322755]\n\tGetHandleVerifier [0x00007FF712A06A3A+180890]\n\tGetHandleVerifier [0x00007FF712A0E13F+211359]\n\tGetHandleVerifier [0x00007FF7129F52B4+109332]\n\tGetHandleVerifier [0x00007FF7129F5462+109762]\n\tGetHandleVerifier [0x00007FF7129DBA79+4825]\n\tBaseThreadInitThunk [0x00007FFBDDB57374+20]\n\tRtlUserThreadStart [0x00007FFBDF6DCC91+33]\n",
     "output_type": "error",
     "traceback": [
      "\u001b[31m---------------------------------------------------------------------------\u001b[39m",
      "\u001b[31mInvalidSessionIdException\u001b[39m                 Traceback (most recent call last)",
      "\u001b[36mCell\u001b[39m\u001b[36m \u001b[39m\u001b[32mIn[6]\u001b[39m\u001b[32m, line 37\u001b[39m\n\u001b[32m     34\u001b[39m time.sleep(\u001b[32m15\u001b[39m)\n\u001b[32m     35\u001b[39m \u001b[38;5;66;03m# 스크롤내리기\u001b[39;00m\n\u001b[32m     36\u001b[39m \u001b[38;5;66;03m# 현재 사이트 높이를 가져오는 자바스크립트\u001b[39;00m\n\u001b[32m---> \u001b[39m\u001b[32m37\u001b[39m scroll=\u001b[43mbrowser\u001b[49m\u001b[43m.\u001b[49m\u001b[43mexecute_script\u001b[49m\u001b[43m(\u001b[49m\u001b[33;43m\"\u001b[39;49m\u001b[33;43mreturn document.body.scrollHeight\u001b[39;49m\u001b[33;43m\"\u001b[39;49m\u001b[43m)\u001b[49m\n\u001b[32m     40\u001b[39m \u001b[38;5;66;03m# 웹스크래핑\u001b[39;00m\n\u001b[32m     41\u001b[39m soup=BeautifulSoup(browser.page_source,\u001b[33m'\u001b[39m\u001b[33mlxml\u001b[39m\u001b[33m'\u001b[39m)\n",
      "\u001b[36mFile \u001b[39m\u001b[32mc:\\python3\\Lib\\site-packages\\selenium\\webdriver\\remote\\webdriver.py:547\u001b[39m, in \u001b[36mWebDriver.execute_script\u001b[39m\u001b[34m(self, script, *args)\u001b[39m\n\u001b[32m    544\u001b[39m converted_args = \u001b[38;5;28mlist\u001b[39m(args)\n\u001b[32m    545\u001b[39m command = Command.W3C_EXECUTE_SCRIPT\n\u001b[32m--> \u001b[39m\u001b[32m547\u001b[39m \u001b[38;5;28;01mreturn\u001b[39;00m \u001b[38;5;28;43mself\u001b[39;49m\u001b[43m.\u001b[49m\u001b[43mexecute\u001b[49m\u001b[43m(\u001b[49m\u001b[43mcommand\u001b[49m\u001b[43m,\u001b[49m\u001b[43m \u001b[49m\u001b[43m{\u001b[49m\u001b[33;43m\"\u001b[39;49m\u001b[33;43mscript\u001b[39;49m\u001b[33;43m\"\u001b[39;49m\u001b[43m:\u001b[49m\u001b[43m \u001b[49m\u001b[43mscript\u001b[49m\u001b[43m,\u001b[49m\u001b[43m \u001b[49m\u001b[33;43m\"\u001b[39;49m\u001b[33;43margs\u001b[39;49m\u001b[33;43m\"\u001b[39;49m\u001b[43m:\u001b[49m\u001b[43m \u001b[49m\u001b[43mconverted_args\u001b[49m\u001b[43m}\u001b[49m\u001b[43m)\u001b[49m[\u001b[33m\"\u001b[39m\u001b[33mvalue\u001b[39m\u001b[33m\"\u001b[39m]\n",
      "\u001b[36mFile \u001b[39m\u001b[32mc:\\python3\\Lib\\site-packages\\selenium\\webdriver\\remote\\webdriver.py:448\u001b[39m, in \u001b[36mWebDriver.execute\u001b[39m\u001b[34m(self, driver_command, params)\u001b[39m\n\u001b[32m    446\u001b[39m response = \u001b[38;5;28mself\u001b[39m.command_executor.execute(driver_command, params)\n\u001b[32m    447\u001b[39m \u001b[38;5;28;01mif\u001b[39;00m response:\n\u001b[32m--> \u001b[39m\u001b[32m448\u001b[39m     \u001b[38;5;28;43mself\u001b[39;49m\u001b[43m.\u001b[49m\u001b[43merror_handler\u001b[49m\u001b[43m.\u001b[49m\u001b[43mcheck_response\u001b[49m\u001b[43m(\u001b[49m\u001b[43mresponse\u001b[49m\u001b[43m)\u001b[49m\n\u001b[32m    449\u001b[39m     response[\u001b[33m\"\u001b[39m\u001b[33mvalue\u001b[39m\u001b[33m\"\u001b[39m] = \u001b[38;5;28mself\u001b[39m._unwrap_value(response.get(\u001b[33m\"\u001b[39m\u001b[33mvalue\u001b[39m\u001b[33m\"\u001b[39m, \u001b[38;5;28;01mNone\u001b[39;00m))\n\u001b[32m    450\u001b[39m     \u001b[38;5;28;01mreturn\u001b[39;00m response\n",
      "\u001b[36mFile \u001b[39m\u001b[32mc:\\python3\\Lib\\site-packages\\selenium\\webdriver\\remote\\errorhandler.py:232\u001b[39m, in \u001b[36mErrorHandler.check_response\u001b[39m\u001b[34m(self, response)\u001b[39m\n\u001b[32m    230\u001b[39m         alert_text = value[\u001b[33m\"\u001b[39m\u001b[33malert\u001b[39m\u001b[33m\"\u001b[39m].get(\u001b[33m\"\u001b[39m\u001b[33mtext\u001b[39m\u001b[33m\"\u001b[39m)\n\u001b[32m    231\u001b[39m     \u001b[38;5;28;01mraise\u001b[39;00m exception_class(message, screen, stacktrace, alert_text)  \u001b[38;5;66;03m# type: ignore[call-arg]  # mypy is not smart enough here\u001b[39;00m\n\u001b[32m--> \u001b[39m\u001b[32m232\u001b[39m \u001b[38;5;28;01mraise\u001b[39;00m exception_class(message, screen, stacktrace)\n",
      "\u001b[31mInvalidSessionIdException\u001b[39m: Message: invalid session id: session deleted as the browser has closed the connection\nfrom disconnected: not connected to DevTools\n  (Session info: chrome=136.0.7103.93)\nStacktrace:\n\tGetHandleVerifier [0x00007FF7129ECF65+75717]\n\tGetHandleVerifier [0x00007FF7129ECFC0+75808]\n\t(No symbol) [0x00007FF7127B8F9A]\n\t(No symbol) [0x00007FF7127A4E35]\n\t(No symbol) [0x00007FF7127C9DB4]\n\t(No symbol) [0x00007FF71283EE75]\n\t(No symbol) [0x00007FF71285ECC2]\n\t(No symbol) [0x00007FF712837153]\n\t(No symbol) [0x00007FF712800421]\n\t(No symbol) [0x00007FF7128011B3]\n\tGetHandleVerifier [0x00007FF712CED74D+3223469]\n\tGetHandleVerifier [0x00007FF712CE7CF2+3200338]\n\tGetHandleVerifier [0x00007FF712D05B23+3322755]\n\tGetHandleVerifier [0x00007FF712A06A3A+180890]\n\tGetHandleVerifier [0x00007FF712A0E13F+211359]\n\tGetHandleVerifier [0x00007FF7129F52B4+109332]\n\tGetHandleVerifier [0x00007FF7129F5462+109762]\n\tGetHandleVerifier [0x00007FF7129DBA79+4825]\n\tBaseThreadInitThunk [0x00007FFBDDB57374+20]\n\tRtlUserThreadStart [0x00007FFBDF6DCC91+33]\n"
     ]
    }
   ],
   "source": [
    "# 브라우저 실행\n",
    "browser = webdriver.Chrome(options=options)\n",
    "browser.maximize_window() #창 최대화\n",
    "\n",
    "### 네이버 자동 로그인 메일 쓰기\n",
    "url = \"https://flight.naver.com/\"\n",
    "browser.get(url)\n",
    "time.sleep(2) # 페이지 로딩 대기\n",
    "\n",
    "elem=browser.find_element(By.XPATH,'//*[@id=\"layer\"]/button[1]')\n",
    "elem.click()\n",
    "select=browser.find_element(By.CLASS_NAME,\"select_code__IVa3P\")\n",
    "select.click()\n",
    "time.sleep(1)\n",
    "elem=browser.find_element(By.XPATH,'//*[@id=\"__next\"]/div/main/div[8]/div[2]/div/div/ul[1]/li[2]/button')\n",
    "elem.click()\n",
    "elem=browser.find_element(By.XPATH,'//*[@id=\"__next\"]/div/main/div[2]/div/div/div[2]/div[1]/button[2]/b')\n",
    "elem.click()\n",
    "elem=browser.find_element(By.XPATH,'//*[@id=\"__next\"]/div/main/div[8]/div[1]/div/input')\n",
    "elem.send_keys(\"이탈리아\")\n",
    "elem.send_keys(Keys.ENTER)\n",
    "time.sleep(2)\n",
    "elem=browser.find_element(By.XPATH,'//*[@id=\"__next\"]/div/main/div[8]/div[2]/section/ul/li[1]/a')\n",
    "elem.click()\n",
    "# 항공권클릭\n",
    "elem=browser.find_element(By.XPATH,'//*[@id=\"__next\"]/div/main/div[2]/div/div/div[2]/button/span')\n",
    "elem.click()\n",
    "time.sleep(2)\n",
    "elem=browser.find_element(By.XPATH,'//*[@id=\"__next\"]/div/div/main/article/div[2]/div/div[2]/div[5]/button[1]/div')\n",
    "elem.click()\n",
    "time.sleep(2)\n",
    "elem=browser.find_element(By.XPATH,'//*[@id=\"__next\"]/div/div/div[2]/div[2]/div[1]/div[2]/ul/li[2]/a')\n",
    "elem.click()\n",
    "time.sleep(15)\n",
    "# 스크롤내리기\n",
    "# 현재 사이트 높이를 가져오는 자바스크립트\n",
    "scroll=browser.execute_script(\"return document.body.scrollHeight\")\n",
    "\n",
    "\n",
    "# 웹스크래핑\n",
    "soup=BeautifulSoup(browser.page_source,'lxml')\n",
    "with open(\"w0513/fly1.html\",'w',encoding='utf-8-sig',newline='') as f:\n",
    "   f.write(soup.prettify())\n",
    "print(\"파일저장 완료\")\n",
    "\n",
    "input(\"press any key\")"
   ]
  }
 ],
 "metadata": {
  "kernelspec": {
   "display_name": "Python 3",
   "language": "python",
   "name": "python3"
  },
  "language_info": {
   "codemirror_mode": {
    "name": "ipython",
    "version": 3
   },
   "file_extension": ".py",
   "mimetype": "text/x-python",
   "name": "python",
   "nbconvert_exporter": "python",
   "pygments_lexer": "ipython3",
   "version": "3.13.2"
  }
 },
 "nbformat": 4,
 "nbformat_minor": 5
}
