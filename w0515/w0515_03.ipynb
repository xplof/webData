{
 "cells": [
  {
   "cell_type": "code",
   "execution_count": 2,
   "id": "08c344e8",
   "metadata": {},
   "outputs": [
    {
     "name": "stdout",
     "output_type": "stream",
     "text": [
      "데이터 출력\n"
     ]
    }
   ],
   "source": [
    "# import datetime\n",
    "from datetime import datetime\n",
    "\n",
    "# 기준시간\n",
    "standtime=datetime(2025,5,31,17,00,00)\n",
    "\n",
    "# 검색된 시간\n",
    "times=\"06:15\"\n",
    "d_time=times.split(\":\")\n",
    "searchtime=datetime(2025,5,31,int(d_time[0]),int(d_time[1]),00)\n",
    "\n",
    "if (standtime<searchtime): #기준시간보다 검색된시간이 더 크면 제외\n",
    "   print(\"제외 대상입니다\")\n",
    "else:\n",
    "   print(\"데이터 출력\")"
   ]
  },
  {
   "cell_type": "code",
   "execution_count": null,
   "id": "5a4b3ec7",
   "metadata": {},
   "outputs": [],
   "source": []
  }
 ],
 "metadata": {
  "kernelspec": {
   "display_name": "Python 3",
   "language": "python",
   "name": "python3"
  },
  "language_info": {
   "codemirror_mode": {
    "name": "ipython",
    "version": 3
   },
   "file_extension": ".py",
   "mimetype": "text/x-python",
   "name": "python",
   "nbconvert_exporter": "python",
   "pygments_lexer": "ipython3",
   "version": "3.13.2"
  }
 },
 "nbformat": 4,
 "nbformat_minor": 5
}
