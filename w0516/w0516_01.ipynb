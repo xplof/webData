{
 "cells": [
  {
   "cell_type": "markdown",
   "id": "c95cdbad",
   "metadata": {},
   "source": [
    "pandas 명령어<br>"
   ]
  },
  {
   "cell_type": "markdown",
   "id": "f9814800",
   "metadata": {},
   "source": [
    "# series 1차원 데이터\n",
    "- 리스트 형태인데 데이터 처리를 쉽게 할수있는 라이브러리"
   ]
  },
  {
   "cell_type": "code",
   "execution_count": null,
   "id": "7f60878b",
   "metadata": {},
   "outputs": [
    {
     "data": {
      "text/plain": [
       "0   -20\n",
       "1   -10\n",
       "2    10\n",
       "3    20\n",
       "dtype: int64"
      ]
     },
     "execution_count": 5,
     "metadata": {},
     "output_type": "execute_result"
    }
   ],
   "source": [
    "import pandas as pd\n",
    "\n",
    "#1차원 데이터\n",
    "\n",
    "a_list=[-20,-10,10,20]\n",
    "temp=pd.Series(a_list) #리스트타입 -> 1차원 series타입 변환\n",
    "temp"
   ]
  },
  {
   "cell_type": "code",
   "execution_count": 10,
   "id": "448491fa",
   "metadata": {},
   "outputs": [
    {
     "name": "stdout",
     "output_type": "stream",
     "text": [
      "-20\n"
     ]
    }
   ],
   "source": [
    "# series index 지정방법\n",
    "temp=pd.Series(a_list,index=['1월','2월','3월','4월'])\n",
    "temp\n",
    "print(temp['1월'])"
   ]
  },
  {
   "cell_type": "markdown",
   "id": "5eb752fa",
   "metadata": {},
   "source": [
    "# dataframe : 2차원데이터"
   ]
  },
  {
   "cell_type": "code",
   "execution_count": null,
   "id": "636b628f",
   "metadata": {},
   "outputs": [
    {
     "data": {
      "text/plain": [
       "{'번호': ['1번', '2번', '3번', '4번', '5번'],\n",
       " '이름': ['ㅁㅁ', 'ㄴㄴ', 'ㅇㅇ', 'ㄹㄹ', 'ㅎㅎ'],\n",
       " '합계': [300, 299, 250, 270, 297]}"
      ]
     },
     "execution_count": 12,
     "metadata": {},
     "output_type": "execute_result"
    }
   ],
   "source": [
    "data = { #dict타입\n",
    "   '번호':['1번','2번','3번','4번','5번'],\n",
    "   '이름':['ㅁㅁ','ㄴㄴ','ㅇㅇ','ㄹㄹ','ㅎㅎ'],\n",
    "   '합계':[300,299,250,270,297]\n",
    "}\n",
    "data"
   ]
  },
  {
   "cell_type": "code",
   "execution_count": null,
   "id": "94de5333",
   "metadata": {},
   "outputs": [
    {
     "data": {
      "text/plain": [
       "[300, 299, 250, 270, 297]"
      ]
     },
     "execution_count": 14,
     "metadata": {},
     "output_type": "execute_result"
    }
   ],
   "source": [
    "# 딕셔너리 타입 구현\n",
    "data['이름']\n",
    "data['합계']"
   ]
  },
  {
   "cell_type": "code",
   "execution_count": 20,
   "id": "aa0a4347",
   "metadata": {},
   "outputs": [
    {
     "data": {
      "text/html": [
       "<div>\n",
       "<style scoped>\n",
       "    .dataframe tbody tr th:only-of-type {\n",
       "        vertical-align: middle;\n",
       "    }\n",
       "\n",
       "    .dataframe tbody tr th {\n",
       "        vertical-align: top;\n",
       "    }\n",
       "\n",
       "    .dataframe thead th {\n",
       "        text-align: right;\n",
       "    }\n",
       "</style>\n",
       "<table border=\"1\" class=\"dataframe\">\n",
       "  <thead>\n",
       "    <tr style=\"text-align: right;\">\n",
       "      <th></th>\n",
       "      <th>번호</th>\n",
       "      <th>이름</th>\n",
       "      <th>합계</th>\n",
       "    </tr>\n",
       "  </thead>\n",
       "  <tbody>\n",
       "    <tr>\n",
       "      <th>11</th>\n",
       "      <td>1번</td>\n",
       "      <td>ㅁㅁ</td>\n",
       "      <td>300</td>\n",
       "    </tr>\n",
       "    <tr>\n",
       "      <th>22</th>\n",
       "      <td>2번</td>\n",
       "      <td>ㄴㄴ</td>\n",
       "      <td>299</td>\n",
       "    </tr>\n",
       "    <tr>\n",
       "      <th>33</th>\n",
       "      <td>3번</td>\n",
       "      <td>ㅇㅇ</td>\n",
       "      <td>250</td>\n",
       "    </tr>\n",
       "    <tr>\n",
       "      <th>44</th>\n",
       "      <td>4번</td>\n",
       "      <td>ㄹㄹ</td>\n",
       "      <td>270</td>\n",
       "    </tr>\n",
       "    <tr>\n",
       "      <th>55</th>\n",
       "      <td>5번</td>\n",
       "      <td>ㅎㅎ</td>\n",
       "      <td>297</td>\n",
       "    </tr>\n",
       "  </tbody>\n",
       "</table>\n",
       "</div>"
      ],
      "text/plain": [
       "    번호  이름   합계\n",
       "11  1번  ㅁㅁ  300\n",
       "22  2번  ㄴㄴ  299\n",
       "33  3번  ㅇㅇ  250\n",
       "44  4번  ㄹㄹ  270\n",
       "55  5번  ㅎㅎ  297"
      ]
     },
     "execution_count": 20,
     "metadata": {},
     "output_type": "execute_result"
    }
   ],
   "source": [
    "# pandas dataframe형태로 변경\n",
    "df=pd.DataFrame(data,index=[11,22,33,44,55])\n",
    "df"
   ]
  },
  {
   "cell_type": "code",
   "execution_count": 21,
   "id": "eadb8238",
   "metadata": {},
   "outputs": [
    {
     "data": {
      "text/plain": [
       "11    ㅁㅁ\n",
       "22    ㄴㄴ\n",
       "33    ㅇㅇ\n",
       "44    ㄹㄹ\n",
       "55    ㅎㅎ\n",
       "Name: 이름, dtype: object"
      ]
     },
     "execution_count": 21,
     "metadata": {},
     "output_type": "execute_result"
    }
   ],
   "source": [
    "df['이름']"
   ]
  },
  {
   "cell_type": "code",
   "execution_count": null,
   "id": "7c6a9dcd",
   "metadata": {},
   "outputs": [
    {
     "data": {
      "text/html": [
       "<div>\n",
       "<style scoped>\n",
       "    .dataframe tbody tr th:only-of-type {\n",
       "        vertical-align: middle;\n",
       "    }\n",
       "\n",
       "    .dataframe tbody tr th {\n",
       "        vertical-align: top;\n",
       "    }\n",
       "\n",
       "    .dataframe thead th {\n",
       "        text-align: right;\n",
       "    }\n",
       "</style>\n",
       "<table border=\"1\" class=\"dataframe\">\n",
       "  <thead>\n",
       "    <tr style=\"text-align: right;\">\n",
       "      <th></th>\n",
       "      <th>번호</th>\n",
       "      <th>합계</th>\n",
       "      <th>이름</th>\n",
       "    </tr>\n",
       "  </thead>\n",
       "  <tbody>\n",
       "    <tr>\n",
       "      <th>11</th>\n",
       "      <td>1번</td>\n",
       "      <td>300</td>\n",
       "      <td>ㅁㅁ</td>\n",
       "    </tr>\n",
       "    <tr>\n",
       "      <th>22</th>\n",
       "      <td>2번</td>\n",
       "      <td>299</td>\n",
       "      <td>ㄴㄴ</td>\n",
       "    </tr>\n",
       "    <tr>\n",
       "      <th>33</th>\n",
       "      <td>3번</td>\n",
       "      <td>250</td>\n",
       "      <td>ㅇㅇ</td>\n",
       "    </tr>\n",
       "    <tr>\n",
       "      <th>44</th>\n",
       "      <td>4번</td>\n",
       "      <td>270</td>\n",
       "      <td>ㄹㄹ</td>\n",
       "    </tr>\n",
       "    <tr>\n",
       "      <th>55</th>\n",
       "      <td>5번</td>\n",
       "      <td>297</td>\n",
       "      <td>ㅎㅎ</td>\n",
       "    </tr>\n",
       "  </tbody>\n",
       "</table>\n",
       "</div>"
      ],
      "text/plain": [
       "    번호   합계  이름\n",
       "11  1번  300  ㅁㅁ\n",
       "22  2번  299  ㄴㄴ\n",
       "33  3번  250  ㅇㅇ\n",
       "44  4번  270  ㄹㄹ\n",
       "55  5번  297  ㅎㅎ"
      ]
     },
     "execution_count": 23,
     "metadata": {},
     "output_type": "execute_result"
    }
   ],
   "source": [
    "# 2가지 이상 출력=[[]]\n",
    "df[['번호','합계','이름']]"
   ]
  }
 ],
 "metadata": {
  "kernelspec": {
   "display_name": "Python 3",
   "language": "python",
   "name": "python3"
  },
  "language_info": {
   "codemirror_mode": {
    "name": "ipython",
    "version": 3
   },
   "file_extension": ".py",
   "mimetype": "text/x-python",
   "name": "python",
   "nbconvert_exporter": "python",
   "pygments_lexer": "ipython3",
   "version": "3.13.2"
  }
 },
 "nbformat": 4,
 "nbformat_minor": 5
}
