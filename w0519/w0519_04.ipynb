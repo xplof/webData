{
 "cells": [
  {
   "cell_type": "code",
   "execution_count": 28,
   "id": "964f250c",
   "metadata": {},
   "outputs": [
    {
     "name": "stdout",
     "output_type": "stream",
     "text": [
      "<class 'pandas.core.frame.DataFrame'>\n",
      "Index: 1 entries, 전국   to 전국  \n",
      "Data columns (total 11 columns):\n",
      " #   Column   Non-Null Count  Dtype\n",
      "---  ------   --------------  -----\n",
      " 0   0~9세     1 non-null      int64\n",
      " 1   10~19세   1 non-null      int64\n",
      " 2   20~29세   1 non-null      int64\n",
      " 3   30~39세   1 non-null      int64\n",
      " 4   40~49세   1 non-null      int64\n",
      " 5   50~59세   1 non-null      int64\n",
      " 6   60~69세   1 non-null      int64\n",
      " 7   70~79세   1 non-null      int64\n",
      " 8   80~89세   1 non-null      int64\n",
      " 9   90~99세   1 non-null      int64\n",
      " 10  100세 이상  1 non-null      int64\n",
      "dtypes: int64(11)\n",
      "memory usage: 96.0+ bytes\n"
     ]
    },
    {
     "name": "stderr",
     "output_type": "stream",
     "text": [
      "c:\\python3\\Lib\\site-packages\\openpyxl\\styles\\stylesheet.py:237: UserWarning: Workbook contains no default style, apply openpyxl's default\n",
      "  warn(\"Workbook contains no default style, apply openpyxl's default\")\n"
     ]
    },
    {
     "data": {
      "text/plain": [
       "Index(['0~9세', '10~19세', '20~29세', '30~39세', '40~49세', '50~59세', '60~69세',\n",
       "       '70~79세', '80~89세', '90~99세', '100세 이상'],\n",
       "      dtype='object')"
      ]
     },
     "execution_count": 28,
     "metadata": {},
     "output_type": "execute_result"
    }
   ],
   "source": [
    "import pandas as pd\n",
    "\n",
    "# 합계\n",
    "df=pd.read_excel('data/people2.xlsx',skiprows=3,usecols='b,e:o',index_col='행정기관',nrows=1)\n",
    "# df['0~9세']=df['0~9세'].str.replace(\",\",'') #천단위삭제\n",
    "# df['0~9세']=df['0~9세'].astype(int) #타입변경\n",
    "# df['0~9세']=df['0~9세'].str.replace(',','').astype(int)\n",
    "df = df.apply(lambda n: n.str.replace(',', '').astype(int))\n",
    "df.info()\n",
    "df.rename(columns={'전국  ':'전국'},inplace=True)\n",
    "df.columns\n",
    "\n"
   ]
  }
 ],
 "metadata": {
  "kernelspec": {
   "display_name": "Python 3",
   "language": "python",
   "name": "python3"
  },
  "language_info": {
   "codemirror_mode": {
    "name": "ipython",
    "version": 3
   },
   "file_extension": ".py",
   "mimetype": "text/x-python",
   "name": "python",
   "nbconvert_exporter": "python",
   "pygments_lexer": "ipython3",
   "version": "3.13.2"
  }
 },
 "nbformat": 4,
 "nbformat_minor": 5
}
