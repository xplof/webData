{
 "cells": [
  {
   "cell_type": "code",
   "execution_count": 20,
   "id": "3371548d",
   "metadata": {},
   "outputs": [
    {
     "data": {
      "text/html": [
       "<div>\n",
       "<style scoped>\n",
       "    .dataframe tbody tr th:only-of-type {\n",
       "        vertical-align: middle;\n",
       "    }\n",
       "\n",
       "    .dataframe tbody tr th {\n",
       "        vertical-align: top;\n",
       "    }\n",
       "\n",
       "    .dataframe thead th {\n",
       "        text-align: right;\n",
       "    }\n",
       "</style>\n",
       "<table border=\"1\" class=\"dataframe\">\n",
       "  <thead>\n",
       "    <tr style=\"text-align: right;\">\n",
       "      <th></th>\n",
       "      <th>구분</th>\n",
       "      <th>사고(건)</th>\n",
       "      <th>사망(명)</th>\n",
       "      <th>부상(명)</th>\n",
       "    </tr>\n",
       "  </thead>\n",
       "  <tbody>\n",
       "    <tr>\n",
       "      <th>3</th>\n",
       "      <td>2014년4월</td>\n",
       "      <td>182</td>\n",
       "      <td>4</td>\n",
       "      <td>360</td>\n",
       "    </tr>\n",
       "    <tr>\n",
       "      <th>15</th>\n",
       "      <td>2015년4월</td>\n",
       "      <td>227</td>\n",
       "      <td>10</td>\n",
       "      <td>486</td>\n",
       "    </tr>\n",
       "    <tr>\n",
       "      <th>27</th>\n",
       "      <td>2016년4월</td>\n",
       "      <td>216</td>\n",
       "      <td>7</td>\n",
       "      <td>419</td>\n",
       "    </tr>\n",
       "  </tbody>\n",
       "</table>\n",
       "</div>"
      ],
      "text/plain": [
       "         구분  사고(건)  사망(명)  부상(명)\n",
       "3   2014년4월    182      4    360\n",
       "15  2015년4월    227     10    486\n",
       "27  2016년4월    216      7    419"
      ]
     },
     "execution_count": 20,
     "metadata": {},
     "output_type": "execute_result"
    }
   ],
   "source": [
    "import pandas as pd\n",
    "\n",
    "df=pd.read_csv('data/2014년졸음운전교통사고.csv',encoding='euc-kr')\n",
    "df2=pd.read_csv('data/2015년졸음운전교통사고.csv',encoding='euc-kr')\n",
    "df3=pd.read_csv('data/2016년졸음운전교통사고.csv',encoding='euc-kr')\n",
    "df\n",
    "# 컬럼 : 구분 역순정렬\n",
    "# df.set_index('구분',inplace=True)\n",
    "# df.sort_index(ascending=False,inplace=True)\n",
    "# df\n",
    "\n",
    "# pandas 데이터합치기 - concat\n",
    "all_df=pd.concat([df,df2,df3])\n",
    "# all_df.set_index('구분',inplace=True)\n",
    "all_df\n",
    "\n",
    "len(all_df.index)\n",
    "all_df.index=list(range(36))\n",
    "\n",
    "all_df.iloc[[3,15,27]]"
   ]
  }
 ],
 "metadata": {
  "kernelspec": {
   "display_name": "Python 3",
   "language": "python",
   "name": "python3"
  },
  "language_info": {
   "codemirror_mode": {
    "name": "ipython",
    "version": 3
   },
   "file_extension": ".py",
   "mimetype": "text/x-python",
   "name": "python",
   "nbconvert_exporter": "python",
   "pygments_lexer": "ipython3",
   "version": "3.13.2"
  }
 },
 "nbformat": 4,
 "nbformat_minor": 5
}
